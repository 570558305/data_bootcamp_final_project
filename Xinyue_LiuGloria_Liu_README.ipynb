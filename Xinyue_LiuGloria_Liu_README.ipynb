{
 "cells": [
  {
   "cell_type": "markdown",
   "metadata": {},
   "source": [
    "### This project was completed by Xinyue Liu and Yixuan Liu in partial fulfilment of ECON-UB.0232, Data Bootcamp, Fall 2020. I certify that the NYU Stern Honor Code applies to this project. In particular, I have: Clearly acknowledged the work and efforts of others when submitting written work as our own. The incorporation of the work of others–including but not limited to their ideas, data, creative expression, and direct quotations (which should be designated with quotation marks), or para- phrasing thereof– has been fully and appropriately referenced using notations both in the text and the bibliography. And I understand that: Submitting the same or substantially similar work in multiple courses, either in the same semester or in a different semester, without the express approval of all instructors is strictly forbidden. I acknowledge that a failure to abide by NYU Stern Honor Code will result in a failing grade for the project and course.\n",
    "\n",
    "### We did a report of the visualization and regression analysis of the distribution of Airbnbs in four signal cities(Shanghai, Istanbul, Singapore and Tokyo) in Asia. We interpret the data about the basic attributes of Airbnb distribution from the website inside Airbnb.\n",
    "\n",
    "### We mainly focused on the prices, room types, locations and popularity. After the visualization of the prices and popularity with room types and neighborhood in the four cities, We run the regressions to see which is the most significant factor to affect the price, then we decide which method is more accurate to predict.\n",
    "\n",
    "### We also did a sentimental analysis to show the key words from the positive reviews for those four cities.\n",
    "\n",
    "### We hope to combine the data analysis, data visualization, and business insights, such as which factors contributed to the price more, and what do customers care about in terms of the sentimental analysis."
   ]
  },
  {
   "cell_type": "markdown",
   "metadata": {},
   "source": [
    " "
   ]
  },
  {
   "cell_type": "markdown",
   "metadata": {},
   "source": [
    "# Link to the project:"
   ]
  },
  {
   "cell_type": "markdown",
   "metadata": {},
   "source": [
    "### Xinyue Liu (xl2151)'s Repository:"
   ]
  },
  {
   "cell_type": "markdown",
   "metadata": {},
   "source": [
    "### https://github.com/AmysnL/data-bootcamp-final-project"
   ]
  },
  {
   "cell_type": "markdown",
   "metadata": {},
   "source": [
    " "
   ]
  },
  {
   "cell_type": "markdown",
   "metadata": {},
   "source": [
    "### Gloria Liu (yl4849)'s Repository:"
   ]
  },
  {
   "cell_type": "markdown",
   "metadata": {},
   "source": [
    "### https://github.com/570558305/data_bootcamp_final_project"
   ]
  },
  {
   "cell_type": "markdown",
   "metadata": {},
   "source": [
    " "
   ]
  },
  {
   "cell_type": "code",
   "execution_count": null,
   "metadata": {},
   "outputs": [],
   "source": []
  }
 ],
 "metadata": {
  "kernelspec": {
   "display_name": "Python 3",
   "language": "python",
   "name": "python3"
  },
  "language_info": {
   "codemirror_mode": {
    "name": "ipython",
    "version": 3
   },
   "file_extension": ".py",
   "mimetype": "text/x-python",
   "name": "python",
   "nbconvert_exporter": "python",
   "pygments_lexer": "ipython3",
   "version": "3.7.3"
  }
 },
 "nbformat": 4,
 "nbformat_minor": 2
}
